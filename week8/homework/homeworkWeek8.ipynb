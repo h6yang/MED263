{
 "cells": [
  {
   "cell_type": "code",
   "execution_count": null,
   "metadata": {
    "collapsed": false
   },
   "outputs": [],
   "source": [
    "# Load libraries for network analysis\n",
    "library(igraph)"
   ]
  },
  {
   "cell_type": "code",
   "execution_count": null,
   "metadata": {
    "collapsed": false
   },
   "outputs": [],
   "source": [
    "# Read in Y2H network\n",
    "Y2H <- read.table(file=\"https://github.com/jihoonkim/MED263/raw/master/week8/homework/Networks/HI-II-14.tsv\",header=T,sep=\"\\t\")\n",
    "head(Y2H)\n",
    "lit <- read.table(file=\"https://github.com/jihoonkim/MED263/raw/master/week8/homework/Networks/Lit-BM-13.tsv\",header=T,sep=\"\\t\")\n",
    "head(lit)"
   ]
  },
  {
   "cell_type": "code",
   "execution_count": null,
   "metadata": {
    "collapsed": false
   },
   "outputs": [],
   "source": [
    "# Load networks\n",
    "edgelist <- cbind(as.character(Y2H$Symbol.A),as.character(Y2H$Symbol.B))\n",
    "g <- graph.data.frame(edgelist, directed=F)\n",
    "edgelist2 <- cbind(as.character(lit$symbol_a),as.character(lit$symbol_b))\n",
    "g2 <- graph.data.frame(edgelist2, directed=F)"
   ]
  },
  {
   "cell_type": "code",
   "execution_count": null,
   "metadata": {
    "collapsed": false
   },
   "outputs": [],
   "source": [
    "# 1a) How many nodes?\n",
    "\n",
    "# 1b) How many edges? \n",
    "\n",
    "# 1c) Get a list of unique node names - hint: use names() with the solution to 1a\n"
   ]
  },
  {
   "cell_type": "code",
   "execution_count": null,
   "metadata": {
    "collapsed": false
   },
   "outputs": [],
   "source": [
    "# 1d) Compare the node degree distributions of the 2 graphs. Do they both follow a power law distribution?\n"
   ]
  },
  {
   "cell_type": "code",
   "execution_count": null,
   "metadata": {
    "collapsed": false
   },
   "outputs": [],
   "source": [
    "# 1e) Compare the diameters of the graph\n",
    "\n",
    "# Based on these analyses, would you conclude that the graphs are similar? "
   ]
  },
  {
   "cell_type": "code",
   "execution_count": null,
   "metadata": {
    "collapsed": false
   },
   "outputs": [],
   "source": [
    "# Load in disease gene lists\n",
    "mend <- scan(\"https://github.com/jihoonkim/MED263/raw/master/week8/homework/OMIM/Mendelian_HGNC.txt\",what=as.character())\n",
    "cancer <- scan(\"https://github.com/jihoonkim/MED263/raw/master/week8/homework/Cancer/cancer_genes.2_sources.txt\",what=as.character())\n",
    "length(mend)\n",
    "length(cancer)"
   ]
  },
  {
   "cell_type": "code",
   "execution_count": null,
   "metadata": {
    "collapsed": true
   },
   "outputs": [],
   "source": [
    "# 2) Evaluate coverage of different gene sets in the graph\n",
    "# Hint: use this syntax to get the nodes in the graph that are also in a list of interesting genes\n",
    "# nodesinlist <- nodenames[which(nodenames %in% genelist)]\n",
    "\n",
    "# 2a) Determine how many mendelian disease genes are in the graph\n",
    "\n",
    "# 2b) Determine how many cancer genes are in the graph\n",
    "\n",
    "# 2c) Make a list of the nodes in the graph that are neither cancer nor mendelian disease genes\n"
   ]
  },
  {
   "cell_type": "code",
   "execution_count": null,
   "metadata": {
    "collapsed": false
   },
   "outputs": [],
   "source": [
    "# Repeat for literature based graph \n",
    "# Are more or less of the disease related genes present in the literature derived graph?\n",
    "# 2d) Determine how many mendelian disease genes are in the graph\n",
    "\n",
    "# 2e) Determine how many cancer genes are in the graph\n",
    "\n",
    "# 2f) Make a list of the nodes in the graph that are neither cancer nor mendelian disease genes\n"
   ]
  },
  {
   "cell_type": "code",
   "execution_count": null,
   "metadata": {
    "collapsed": false,
    "scrolled": true
   },
   "outputs": [],
   "source": [
    "# 3) Compare graph measures between disease genes, cancer genes, and non-disease genes in the Y2H network\n",
    "# 3a) plot degree distributions for each type of gene\n",
    "\n",
    "# 3b) plot clustering coeffcient distribution for each type of gene\n",
    "\n",
    "# 3c) plot closeness centrality for each type of gene\n",
    "\n",
    "# 3d) plot betweenness centrality for each type of gene\n",
    "\n"
   ]
  },
  {
   "cell_type": "code",
   "execution_count": null,
   "metadata": {
    "collapsed": false
   },
   "outputs": [],
   "source": [
    "# Now repeat for the literarture curated network\n",
    "# Would you draw different conclusions using the literature based network?\n",
    "# 3e) plot degree distributions for each type of gene\n",
    "\n",
    "# 3f) plot clustering coeffcient distribution for each type of gene\n",
    "\n",
    "# 3g) plot closeness centrality for each type of gene\n",
    "\n",
    "# 3h) plot betweenness centrality for each type of gene\n",
    "\n",
    "\n",
    "\n",
    "# Do your conclusions about the properties of these different classes of genes change when you use different networks?"
   ]
  },
  {
   "cell_type": "code",
   "execution_count": null,
   "metadata": {
    "collapsed": false
   },
   "outputs": [],
   "source": [
    "# 4) Next compare enrichment for 4 node motifs in the Y2H network versus the literature based network\n",
    "# Hint: There are 6 unique motifs where edges connect all 4 nodes in an undirected graph, \n",
    "#       there are 11 total undirected 4 node motifs when the subgraph doesn't have to be connected\n",
    "\n",
    "# Visualize the possible motifs\n",
    "\n",
    "# Count the number of motifs in each graph\n",
    "\n",
    "# Do the graphs differ in terms of the number motifs? Which motifs are more common in the Y2H network? Which in the literature derived network? "
   ]
  },
  {
   "cell_type": "code",
   "execution_count": null,
   "metadata": {
    "collapsed": true
   },
   "outputs": [],
   "source": [
    "# Bonus: Are these motifs over-represented relative to similar random networks? \n",
    "# Hint: you can perform degree preserving permutation using rewire(g, with = keeping_degseq()) - see igraph documentation\n",
    "#       The niter parameter is the number of edges that will be randomly reassigned\n",
    "# Note: This might be computationally intensive\n",
    "\n"
   ]
  }
 ],
 "metadata": {
  "anaconda-cloud": {},
  "kernelspec": {
   "display_name": "R",
   "language": "R",
   "name": "ir"
  },
  "language_info": {
   "codemirror_mode": "r",
   "file_extension": ".r",
   "mimetype": "text/x-r-source",
   "name": "R",
   "pygments_lexer": "r",
   "version": "3.3.2"
  }
 },
 "nbformat": 4,
 "nbformat_minor": 0
}
